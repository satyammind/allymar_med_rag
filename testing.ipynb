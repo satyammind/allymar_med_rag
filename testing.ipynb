{
 "cells": [
  {
   "cell_type": "code",
   "execution_count": 1,
   "id": "af85c66f",
   "metadata": {},
   "outputs": [],
   "source": [
    "import os\n",
    "from google.genai import types"
   ]
  },
  {
   "cell_type": "code",
   "execution_count": 2,
   "id": "66eddd93",
   "metadata": {},
   "outputs": [],
   "source": [
    "import vertexai\n",
    "PROJECT_ID = os.getenv(\"PROJECT_ID\")\n",
    "REGION = os.getenv(\"REGION\")\n",
    "\n",
    "vertexai.init(location= REGION , project=PROJECT_ID)\n"
   ]
  },
  {
   "cell_type": "code",
   "execution_count": 3,
   "id": "e930c6d7",
   "metadata": {},
   "outputs": [],
   "source": [
    "# Create a GenerateContentConfig instance\n",
    "generate_content_config = types.GenerateContentConfig(\n",
    "    safety_settings=[\n",
    "        types.SafetySetting(\n",
    "            category=\"HARM_CATEGORY_HARASSMENT\",\n",
    "            threshold=\"BLOCK_ONLY_HIGH\",  # Block few\n",
    "        ),\n",
    "        types.SafetySetting(\n",
    "            category=\"HARM_CATEGORY_HATE_SPEECH\",\n",
    "            threshold=\"BLOCK_NONE\",  # Block none\n",
    "        ),\n",
    "        types.SafetySetting(\n",
    "            category=\"HARM_CATEGORY_SEXUALLY_EXPLICIT\",\n",
    "            threshold=\"BLOCK_LOW_AND_ABOVE\",  # Block most\n",
    "        ),\n",
    "    ],\n",
    ")\n"
   ]
  },
  {
   "cell_type": "code",
   "execution_count": 4,
   "id": "f0ac21bb",
   "metadata": {},
   "outputs": [],
   "source": [
    "os.environ[\"GOOGLE_APPLICATION_CREDENTIALS\"] = \"allymarclinicalnotesapp-0c6d62f3197f.json\""
   ]
  },
  {
   "cell_type": "code",
   "execution_count": 5,
   "id": "67eb1316",
   "metadata": {},
   "outputs": [],
   "source": [
    "from google import genai\n",
    "\n",
    "client = genai.Client(vertexai=True, project=PROJECT_ID, location=REGION)"
   ]
  },
  {
   "cell_type": "code",
   "execution_count": 6,
   "id": "67886681",
   "metadata": {},
   "outputs": [],
   "source": [
    "from pdf2image import convert_from_path\n",
    "import gc\n",
    "import tempfile\n",
    "import os\n",
    "from google.genai import types\n",
    "\n",
    "def ocr_and_write_page(pdf_path, page_number, dpi=300, output_path=\"page_text.txt\"):\n",
    "    images = convert_from_path(pdf_path, dpi=dpi, first_page=page_number, last_page=page_number)\n",
    "    image = images[0]\n",
    "    print(\"================================page_number\",page_number)\n",
    "\n",
    "    with tempfile.NamedTemporaryFile(delete=False, suffix=\".png\") as temp_image_file:\n",
    "        image.save(temp_image_file.name, format=\"PNG\")\n",
    "        temp_image_file_path = temp_image_file.name\n",
    "\n",
    "    try:\n",
    "\n",
    "        with open(temp_image_file_path, 'rb') as f:\n",
    "            image_bytes = f.read()\n",
    "\n",
    "        response = client.models.generate_content(\n",
    "        model='gemini-2.0-flash',\n",
    "        contents=[\n",
    "            types.Part.from_bytes(\n",
    "            data=image_bytes,\n",
    "            mime_type='image/jpeg',\n",
    "            ),\n",
    "            'Extract the text in the image verbatim'\n",
    "        ],\n",
    "        )\n",
    "        response=f\"\\n PAGE NUMBER:- {page_number}----------------------------------------\\nDATA: {response.text}\"\n",
    "        return response\n",
    "    finally:\n",
    "        # Clean up\n",
    "        os.remove(temp_image_file_path)\n",
    "        del image\n",
    "        gc.collect()"
   ]
  },
  {
   "cell_type": "code",
   "execution_count": 7,
   "id": "2fa03ee4",
   "metadata": {},
   "outputs": [],
   "source": [
    "from pdf2image import pdfinfo_from_path\n",
    "\n",
    "pdf_path = \"Amelia_Harris_Redacted.pdf\"\n",
    "info = pdfinfo_from_path(pdf_path)\n",
    "total_pages = info[\"Pages\"]"
   ]
  },
  {
   "cell_type": "code",
   "execution_count": 8,
   "id": "8bf65d3d",
   "metadata": {},
   "outputs": [
    {
     "name": "stdout",
     "output_type": "stream",
     "text": [
      "================================page_number 1\n",
      "================================page_number 2\n",
      "================================page_number 3\n",
      "================================page_number 4\n",
      "================================page_number 5\n",
      "================================page_number 6\n",
      "================================page_number 7\n",
      "================================page_number 8\n",
      "================================page_number 9\n",
      "================================page_number 10\n",
      "================================page_number 11\n",
      "================================page_number 12\n",
      "================================page_number 13\n",
      "================================page_number 14\n",
      "================================page_number 15\n",
      "================================page_number 16\n",
      "================================page_number 17\n",
      "================================page_number 18\n",
      "================================page_number 19\n",
      "================================page_number 20\n",
      "================================page_number 21\n",
      "================================page_number 22\n",
      "================================page_number 23\n",
      "================================page_number 24\n",
      "================================page_number 25\n",
      "================================page_number 26\n",
      "================================page_number 27\n",
      "================================page_number 28\n",
      "================================page_number 29\n",
      "================================page_number 30\n",
      "================================page_number 31\n",
      "================================page_number 32\n",
      "================================page_number 33\n",
      "================================page_number 34\n",
      "================================page_number 35\n",
      "================================page_number 36\n",
      "================================page_number 37\n",
      "================================page_number 38\n",
      "================================page_number 39\n",
      "================================page_number 40\n",
      "================================page_number 41\n",
      "================================page_number 42\n",
      "================================page_number 43\n",
      "================================page_number 44\n",
      "================================page_number 45\n",
      "================================page_number 46\n",
      "================================page_number 47\n",
      "================================page_number 48\n",
      "================================page_number 49\n",
      "================================page_number 50\n",
      "================================page_number 51\n",
      "================================page_number 52\n",
      "================================page_number 53\n",
      "================================page_number 54\n",
      "================================page_number 55\n",
      "================================page_number 56\n",
      "================================page_number 57\n",
      "================================page_number 58\n",
      "================================page_number 59\n",
      "================================page_number 60\n",
      "================================page_number 61\n",
      "================================page_number 62\n",
      "================================page_number 63\n",
      "================================page_number 64\n"
     ]
    }
   ],
   "source": [
    "# total_pages = 10 \n",
    "for i in range(1, total_pages + 1):\n",
    "    ocr_and_write_page(pdf_path=pdf_path, page_number=i, output_path=f\"page_{i}_output.txt\")\n"
   ]
  },
  {
   "cell_type": "code",
   "execution_count": 9,
   "id": "08865ee0",
   "metadata": {},
   "outputs": [
    {
     "ename": "NameError",
     "evalue": "name 'responses' is not defined",
     "output_type": "error",
     "traceback": [
      "\u001b[31m---------------------------------------------------------------------------\u001b[39m",
      "\u001b[31mNameError\u001b[39m                                 Traceback (most recent call last)",
      "\u001b[36mCell\u001b[39m\u001b[36m \u001b[39m\u001b[32mIn[9]\u001b[39m\u001b[32m, line 1\u001b[39m\n\u001b[32m----> \u001b[39m\u001b[32m1\u001b[39m \u001b[43mresponses\u001b[49m\n",
      "\u001b[31mNameError\u001b[39m: name 'responses' is not defined"
     ]
    }
   ],
   "source": [
    "responses"
   ]
  },
  {
   "cell_type": "code",
   "execution_count": null,
   "id": "203c0be1",
   "metadata": {},
   "outputs": [
    {
     "data": {
      "text/plain": [
       "64"
      ]
     },
     "execution_count": 11,
     "metadata": {},
     "output_type": "execute_result"
    }
   ],
   "source": [
    "len(responses)"
   ]
  },
  {
   "cell_type": "code",
   "execution_count": null,
   "id": "1910b46a",
   "metadata": {},
   "outputs": [],
   "source": []
  }
 ],
 "metadata": {
  "kernelspec": {
   "display_name": "genai_core",
   "language": "python",
   "name": "python3"
  },
  "language_info": {
   "codemirror_mode": {
    "name": "ipython",
    "version": 3
   },
   "file_extension": ".py",
   "mimetype": "text/x-python",
   "name": "python",
   "nbconvert_exporter": "python",
   "pygments_lexer": "ipython3",
   "version": "3.12.9"
  }
 },
 "nbformat": 4,
 "nbformat_minor": 5
}
